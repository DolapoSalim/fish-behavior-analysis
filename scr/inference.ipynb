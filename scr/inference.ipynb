{
 "cells": [
  {
   "cell_type": "code",
   "execution_count": 1,
   "id": "f02ba1ce",
   "metadata": {},
   "outputs": [],
   "source": [
    "import cv2\n",
    "from ultralytics import YOLO"
   ]
  },
  {
   "cell_type": "code",
   "execution_count": 5,
   "id": "e58fa7c2",
   "metadata": {},
   "outputs": [],
   "source": [
    "# 1. Load YOLOv8 segmentation model\n",
    "model = YOLO(r'C:\\Users\\dolap\\OneDrive\\Documents\\DOLAPO\\data-analysis\\fish-behavior-analysis\\fish-behavior-analysis\\model\\plentyoffish.pt')  # or your trained model\n",
    "\n",
    "# 2. Run inference on video\n",
    "results = model.track(source=r'C:\\Users\\dolap\\Downloads\\DSC_1289.MOV', stream=True, show=True, conf=0.5)"
   ]
  },
  {
   "cell_type": "code",
   "execution_count": null,
   "id": "64d5e519",
   "metadata": {},
   "outputs": [
    {
     "ename": "",
     "evalue": "",
     "output_type": "error",
     "traceback": [
      "\u001b[1;31mThe Kernel crashed while executing code in the current cell or a previous cell. \n",
      "\u001b[1;31mPlease review the code in the cell(s) to identify a possible cause of the failure. \n",
      "\u001b[1;31mClick <a href='https://aka.ms/vscodeJupyterKernelCrash'>here</a> for more info. \n",
      "\u001b[1;31mView Jupyter <a href='command:jupyter.viewOutput'>log</a> for further details."
     ]
    }
   ],
   "source": [
    "#view results\n",
    "for result in results:\n",
    "    print(result.boxes)  # Print bounding boxes\n",
    "    print(result.masks)  # Print segmentation masks\n",
    "    print(result.keypoints)  # Print keypoints if available\n",
    "    print(result.names)  # Print class names"
   ]
  }
 ],
 "metadata": {
  "kernelspec": {
   "display_name": "opencv-env",
   "language": "python",
   "name": "python3"
  },
  "language_info": {
   "codemirror_mode": {
    "name": "ipython",
    "version": 3
   },
   "file_extension": ".py",
   "mimetype": "text/x-python",
   "name": "python",
   "nbconvert_exporter": "python",
   "pygments_lexer": "ipython3",
   "version": "3.13.1"
  }
 },
 "nbformat": 4,
 "nbformat_minor": 5
}
