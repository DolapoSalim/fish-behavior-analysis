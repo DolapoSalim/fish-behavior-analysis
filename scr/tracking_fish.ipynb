{
 "cells": [
  {
   "cell_type": "code",
   "execution_count": 14,
   "id": "c539ee84",
   "metadata": {},
   "outputs": [],
   "source": [
    "import numpy as np\n",
    "import supervision as sv\n",
    "import cv2\n",
    "from ultralytics import YOLO"
   ]
  },
  {
   "cell_type": "code",
   "execution_count": 15,
   "id": "aae71110",
   "metadata": {},
   "outputs": [],
   "source": [
    "model = YOLO(r\"C:\\Users\\dolap\\OneDrive\\Documents\\DOLAPO\\data-analysis\\fish-behavior-analysis\\model\\best.pt\")"
   ]
  },
  {
   "cell_type": "code",
   "execution_count": 16,
   "id": "cb95aaff",
   "metadata": {},
   "outputs": [],
   "source": [
    "tracker = sv.ByteTrack()\n",
    "mask_annotator = sv.MaskAnnotator()\n",
    "label_annotator = sv.LabelAnnotator()\n",
    "trace_annotator = sv.TraceAnnotator()"
   ]
  },
  {
   "cell_type": "code",
   "execution_count": 17,
   "id": "a9a90c87",
   "metadata": {},
   "outputs": [],
   "source": [
    "def callback(frame: np.ndarray, _: int) -> np.ndarray:\n",
    "    results = model(frame)[0]\n",
    "    detections = sv.Detections.from_ultralytics(results)\n",
    "    detections = tracker.update_with_detections(detections)\n",
    "\n",
    "    labels = [\n",
    "        f\"#{tracker_id} {model.names[class_id]}\"\n",
    "        for class_id, tracker_id\n",
    "        in zip(detections.class_id, detections.tracker_id)\n",
    "    ]\n",
    "\n",
    "    annotated_frame = mask_annotator.annotate(\n",
    "        frame.copy(), detections=detections)\n",
    "    annotated_frame = label_annotator.annotate(\n",
    "        annotated_frame, detections=detections, labels=labels)\n",
    "    return trace_annotator.annotate(\n",
    "        annotated_frame, detections=detections)"
   ]
  },
  {
   "cell_type": "code",
   "execution_count": null,
   "id": "99ae5911",
   "metadata": {},
   "outputs": [],
   "source": [
    "sv.process_video(\n",
    "    source_path= r\"C:\\Users\\dolap\\OneDrive\\Documents\\DOLAPO\\data-analysis\\fish-behavior-analysis\\data\\test_video.mp4\",\n",
    "    target_path=\"result.mp4\",\n",
    "    callback=callback\n",
    ")\n",
    "\n",
    "print(\"Processing complete. The result is saved as 'result.mp4'.\")"
   ]
  }
 ],
 "metadata": {
  "kernelspec": {
   "display_name": "opencv-env",
   "language": "python",
   "name": "python3"
  },
  "language_info": {
   "codemirror_mode": {
    "name": "ipython",
    "version": 3
   },
   "file_extension": ".py",
   "mimetype": "text/x-python",
   "name": "python",
   "nbconvert_exporter": "python",
   "pygments_lexer": "ipython3",
   "version": "3.13.1"
  }
 },
 "nbformat": 4,
 "nbformat_minor": 5
}
